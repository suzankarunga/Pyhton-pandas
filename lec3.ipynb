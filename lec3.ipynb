{
 "cells": [
  {
   "cell_type": "code",
   "execution_count": null,
   "metadata": {},
   "outputs": [],
   "source": []
  },
  {
   "cell_type": "code",
   "execution_count": 1,
   "metadata": {},
   "outputs": [
    {
     "name": "stderr",
     "output_type": "stream",
     "text": [
      "C:\\Users\\Suzan\\AppData\\Local\\Temp\\ipykernel_18492\\555797462.py:1: DeprecationWarning: \n",
      "Pyarrow will become a required dependency of pandas in the next major release of pandas (pandas 3.0),\n",
      "(to allow more performant data types, such as the Arrow string type, and better interoperability with other libraries)\n",
      "but was not found to be installed on your system.\n",
      "If this would cause problems for you,\n",
      "please provide us feedback at https://github.com/pandas-dev/pandas/issues/54466\n",
      "        \n",
      "  import pandas as pd\n"
     ]
    }
   ],
   "source": [
    "import pandas as pd\n",
    "import numpy as np\n",
    "import matplotlib.pyplot as plt\n",
    "import seaborn as sns"
   ]
  },
  {
   "cell_type": "code",
   "execution_count": 5,
   "metadata": {},
   "outputs": [],
   "source": [
    "zan=pd.read_excel(r'C:\\Users\\Suzan\\Desktop\\sem 3\\data minning\\datasets\\data\\ClosingStockPrices.xlsx',header=2)"
   ]
  },
  {
   "cell_type": "code",
   "execution_count": 6,
   "metadata": {},
   "outputs": [
    {
     "data": {
      "text/html": [
       "<div>\n",
       "<style scoped>\n",
       "    .dataframe tbody tr th:only-of-type {\n",
       "        vertical-align: middle;\n",
       "    }\n",
       "\n",
       "    .dataframe tbody tr th {\n",
       "        vertical-align: top;\n",
       "    }\n",
       "\n",
       "    .dataframe thead th {\n",
       "        text-align: right;\n",
       "    }\n",
       "</style>\n",
       "<table border=\"1\" class=\"dataframe\">\n",
       "  <thead>\n",
       "    <tr style=\"text-align: right;\">\n",
       "      <th></th>\n",
       "      <th>Date</th>\n",
       "      <th>IBM</th>\n",
       "      <th>INTC</th>\n",
       "      <th>CSCO</th>\n",
       "      <th>GE</th>\n",
       "      <th>DJ Industrials \\nIndex</th>\n",
       "    </tr>\n",
       "  </thead>\n",
       "  <tbody>\n",
       "    <tr>\n",
       "      <th>0</th>\n",
       "      <td>2010-09-03</td>\n",
       "      <td>127.58</td>\n",
       "      <td>18.430</td>\n",
       "      <td>21.040</td>\n",
       "      <td>15.392</td>\n",
       "      <td>10447.93</td>\n",
       "    </tr>\n",
       "    <tr>\n",
       "      <th>1</th>\n",
       "      <td>2010-09-07</td>\n",
       "      <td>125.95</td>\n",
       "      <td>18.120</td>\n",
       "      <td>20.580</td>\n",
       "      <td>15.440</td>\n",
       "      <td>10340.69</td>\n",
       "    </tr>\n",
       "    <tr>\n",
       "      <th>2</th>\n",
       "      <td>2010-09-08</td>\n",
       "      <td>126.08</td>\n",
       "      <td>17.900</td>\n",
       "      <td>20.640</td>\n",
       "      <td>15.700</td>\n",
       "      <td>10387.01</td>\n",
       "    </tr>\n",
       "    <tr>\n",
       "      <th>3</th>\n",
       "      <td>2010-09-09</td>\n",
       "      <td>126.36</td>\n",
       "      <td>18.000</td>\n",
       "      <td>20.610</td>\n",
       "      <td>15.910</td>\n",
       "      <td>10415.24</td>\n",
       "    </tr>\n",
       "    <tr>\n",
       "      <th>4</th>\n",
       "      <td>2010-09-10</td>\n",
       "      <td>127.99</td>\n",
       "      <td>17.970</td>\n",
       "      <td>20.620</td>\n",
       "      <td>15.980</td>\n",
       "      <td>10462.77</td>\n",
       "    </tr>\n",
       "    <tr>\n",
       "      <th>5</th>\n",
       "      <td>2010-09-13</td>\n",
       "      <td>129.61</td>\n",
       "      <td>18.557</td>\n",
       "      <td>21.260</td>\n",
       "      <td>16.250</td>\n",
       "      <td>10544.13</td>\n",
       "    </tr>\n",
       "    <tr>\n",
       "      <th>6</th>\n",
       "      <td>2010-09-14</td>\n",
       "      <td>128.85</td>\n",
       "      <td>18.740</td>\n",
       "      <td>21.450</td>\n",
       "      <td>16.160</td>\n",
       "      <td>10526.49</td>\n",
       "    </tr>\n",
       "    <tr>\n",
       "      <th>7</th>\n",
       "      <td>2010-09-15</td>\n",
       "      <td>129.43</td>\n",
       "      <td>18.720</td>\n",
       "      <td>21.590</td>\n",
       "      <td>16.340</td>\n",
       "      <td>10572.73</td>\n",
       "    </tr>\n",
       "    <tr>\n",
       "      <th>8</th>\n",
       "      <td>2010-09-16</td>\n",
       "      <td>129.67</td>\n",
       "      <td>18.970</td>\n",
       "      <td>21.930</td>\n",
       "      <td>16.230</td>\n",
       "      <td>10594.83</td>\n",
       "    </tr>\n",
       "    <tr>\n",
       "      <th>9</th>\n",
       "      <td>2010-09-17</td>\n",
       "      <td>130.19</td>\n",
       "      <td>18.810</td>\n",
       "      <td>21.863</td>\n",
       "      <td>16.290</td>\n",
       "      <td>10607.85</td>\n",
       "    </tr>\n",
       "  </tbody>\n",
       "</table>\n",
       "</div>"
      ],
      "text/plain": [
       "        Date     IBM    INTC    CSCO      GE  DJ Industrials \\nIndex\n",
       "0 2010-09-03  127.58  18.430  21.040  15.392                10447.93\n",
       "1 2010-09-07  125.95  18.120  20.580  15.440                10340.69\n",
       "2 2010-09-08  126.08  17.900  20.640  15.700                10387.01\n",
       "3 2010-09-09  126.36  18.000  20.610  15.910                10415.24\n",
       "4 2010-09-10  127.99  17.970  20.620  15.980                10462.77\n",
       "5 2010-09-13  129.61  18.557  21.260  16.250                10544.13\n",
       "6 2010-09-14  128.85  18.740  21.450  16.160                10526.49\n",
       "7 2010-09-15  129.43  18.720  21.590  16.340                10572.73\n",
       "8 2010-09-16  129.67  18.970  21.930  16.230                10594.83\n",
       "9 2010-09-17  130.19  18.810  21.863  16.290                10607.85"
      ]
     },
     "execution_count": 6,
     "metadata": {},
     "output_type": "execute_result"
    }
   ],
   "source": [
    "zan.head(10)"
   ]
  },
  {
   "cell_type": "code",
   "execution_count": 15,
   "metadata": {},
   "outputs": [
    {
     "data": {
      "text/plain": [
       "<bound method DataFrame.duplicated of          Date     IBM    INTC    CSCO      GE  DJ Industrials \\nIndex\n",
       "0  2010-09-03  127.58  18.430  21.040  15.392                10447.93\n",
       "1  2010-09-07  125.95  18.120  20.580  15.440                10340.69\n",
       "2  2010-09-08  126.08  17.900  20.640  15.700                10387.01\n",
       "3  2010-09-09  126.36  18.000  20.610  15.910                10415.24\n",
       "4  2010-09-10  127.99  17.970  20.620  15.980                10462.77\n",
       "5  2010-09-13  129.61  18.557  21.260  16.250                10544.13\n",
       "6  2010-09-14  128.85  18.740  21.450  16.160                10526.49\n",
       "7  2010-09-15  129.43  18.720  21.590  16.340                10572.73\n",
       "8  2010-09-16  129.67  18.970  21.930  16.230                10594.83\n",
       "9  2010-09-17  130.19  18.810  21.863  16.290                10607.85\n",
       "10 2010-09-20  131.79  18.930  21.750  16.550                10753.62\n",
       "11 2010-09-21  131.98  19.140  21.640  16.520                10761.03\n",
       "12 2010-09-22  132.57  19.010  21.670  16.500                10739.31\n",
       "13 2010-09-23  131.67  18.980  21.530  16.140                10662.42\n",
       "14 2010-09-24  134.11  19.423  22.090  16.660                10860.26\n",
       "15 2010-09-27  134.65  19.235  22.110  16.430                10812.04\n",
       "16 2010-09-28  134.89  19.505  21.863  16.440                10858.14\n",
       "17 2010-09-29  135.48  19.240  21.870  16.360                10835.28\n",
       "18 2010-09-30  134.14  19.200  21.900  16.250                10788.05\n",
       "19 2010-10-01  135.64  19.320  21.910  16.360                10829.68>"
      ]
     },
     "execution_count": 15,
     "metadata": {},
     "output_type": "execute_result"
    }
   ],
   "source": [
    "zan.duplicated"
   ]
  },
  {
   "cell_type": "code",
   "execution_count": null,
   "metadata": {},
   "outputs": [],
   "source": []
  },
  {
   "cell_type": "code",
   "execution_count": null,
   "metadata": {},
   "outputs": [],
   "source": []
  },
  {
   "cell_type": "code",
   "execution_count": null,
   "metadata": {},
   "outputs": [],
   "source": []
  },
  {
   "cell_type": "code",
   "execution_count": 9,
   "metadata": {},
   "outputs": [
    {
     "data": {
      "text/plain": [
       "Date                      0\n",
       "IBM                       0\n",
       "INTC                      0\n",
       "CSCO                      0\n",
       "GE                        0\n",
       "DJ Industrials \\nIndex    0\n",
       "dtype: int64"
      ]
     },
     "execution_count": 9,
     "metadata": {},
     "output_type": "execute_result"
    }
   ],
   "source": [
    "zan.isnull().sum()"
   ]
  },
  {
   "cell_type": "code",
   "execution_count": 11,
   "metadata": {},
   "outputs": [
    {
     "data": {
      "text/plain": [
       "(20, 6)"
      ]
     },
     "execution_count": 11,
     "metadata": {},
     "output_type": "execute_result"
    }
   ],
   "source": [
    "zan.shape"
   ]
  },
  {
   "cell_type": "code",
   "execution_count": 14,
   "metadata": {},
   "outputs": [
    {
     "data": {
      "text/plain": [
       "0     21.040\n",
       "1     20.580\n",
       "2     20.640\n",
       "3     20.610\n",
       "4     20.620\n",
       "5     21.260\n",
       "6     21.450\n",
       "7     21.590\n",
       "8     21.930\n",
       "9     21.863\n",
       "10    21.750\n",
       "11    21.640\n",
       "12    21.670\n",
       "13    21.530\n",
       "14    22.090\n",
       "15    22.110\n",
       "16    21.863\n",
       "17    21.870\n",
       "18    21.900\n",
       "19    21.910\n",
       "Name: CSCO, dtype: float64"
      ]
     },
     "execution_count": 14,
     "metadata": {},
     "output_type": "execute_result"
    }
   ],
   "source": [
    "zan['CSCO']"
   ]
  },
  {
   "cell_type": "code",
   "execution_count": 17,
   "metadata": {},
   "outputs": [
    {
     "data": {
      "text/html": [
       "<div>\n",
       "<style scoped>\n",
       "    .dataframe tbody tr th:only-of-type {\n",
       "        vertical-align: middle;\n",
       "    }\n",
       "\n",
       "    .dataframe tbody tr th {\n",
       "        vertical-align: top;\n",
       "    }\n",
       "\n",
       "    .dataframe thead th {\n",
       "        text-align: right;\n",
       "    }\n",
       "</style>\n",
       "<table border=\"1\" class=\"dataframe\">\n",
       "  <thead>\n",
       "    <tr style=\"text-align: right;\">\n",
       "      <th></th>\n",
       "      <th>Date</th>\n",
       "      <th>IBM</th>\n",
       "      <th>CSCO</th>\n",
       "    </tr>\n",
       "  </thead>\n",
       "  <tbody>\n",
       "    <tr>\n",
       "      <th>0</th>\n",
       "      <td>2010-09-03</td>\n",
       "      <td>127.58</td>\n",
       "      <td>21.040</td>\n",
       "    </tr>\n",
       "    <tr>\n",
       "      <th>1</th>\n",
       "      <td>2010-09-07</td>\n",
       "      <td>125.95</td>\n",
       "      <td>20.580</td>\n",
       "    </tr>\n",
       "    <tr>\n",
       "      <th>2</th>\n",
       "      <td>2010-09-08</td>\n",
       "      <td>126.08</td>\n",
       "      <td>20.640</td>\n",
       "    </tr>\n",
       "    <tr>\n",
       "      <th>3</th>\n",
       "      <td>2010-09-09</td>\n",
       "      <td>126.36</td>\n",
       "      <td>20.610</td>\n",
       "    </tr>\n",
       "    <tr>\n",
       "      <th>4</th>\n",
       "      <td>2010-09-10</td>\n",
       "      <td>127.99</td>\n",
       "      <td>20.620</td>\n",
       "    </tr>\n",
       "    <tr>\n",
       "      <th>5</th>\n",
       "      <td>2010-09-13</td>\n",
       "      <td>129.61</td>\n",
       "      <td>21.260</td>\n",
       "    </tr>\n",
       "    <tr>\n",
       "      <th>6</th>\n",
       "      <td>2010-09-14</td>\n",
       "      <td>128.85</td>\n",
       "      <td>21.450</td>\n",
       "    </tr>\n",
       "    <tr>\n",
       "      <th>7</th>\n",
       "      <td>2010-09-15</td>\n",
       "      <td>129.43</td>\n",
       "      <td>21.590</td>\n",
       "    </tr>\n",
       "    <tr>\n",
       "      <th>8</th>\n",
       "      <td>2010-09-16</td>\n",
       "      <td>129.67</td>\n",
       "      <td>21.930</td>\n",
       "    </tr>\n",
       "    <tr>\n",
       "      <th>9</th>\n",
       "      <td>2010-09-17</td>\n",
       "      <td>130.19</td>\n",
       "      <td>21.863</td>\n",
       "    </tr>\n",
       "    <tr>\n",
       "      <th>10</th>\n",
       "      <td>2010-09-20</td>\n",
       "      <td>131.79</td>\n",
       "      <td>21.750</td>\n",
       "    </tr>\n",
       "    <tr>\n",
       "      <th>11</th>\n",
       "      <td>2010-09-21</td>\n",
       "      <td>131.98</td>\n",
       "      <td>21.640</td>\n",
       "    </tr>\n",
       "    <tr>\n",
       "      <th>12</th>\n",
       "      <td>2010-09-22</td>\n",
       "      <td>132.57</td>\n",
       "      <td>21.670</td>\n",
       "    </tr>\n",
       "    <tr>\n",
       "      <th>13</th>\n",
       "      <td>2010-09-23</td>\n",
       "      <td>131.67</td>\n",
       "      <td>21.530</td>\n",
       "    </tr>\n",
       "    <tr>\n",
       "      <th>14</th>\n",
       "      <td>2010-09-24</td>\n",
       "      <td>134.11</td>\n",
       "      <td>22.090</td>\n",
       "    </tr>\n",
       "    <tr>\n",
       "      <th>15</th>\n",
       "      <td>2010-09-27</td>\n",
       "      <td>134.65</td>\n",
       "      <td>22.110</td>\n",
       "    </tr>\n",
       "    <tr>\n",
       "      <th>16</th>\n",
       "      <td>2010-09-28</td>\n",
       "      <td>134.89</td>\n",
       "      <td>21.863</td>\n",
       "    </tr>\n",
       "    <tr>\n",
       "      <th>17</th>\n",
       "      <td>2010-09-29</td>\n",
       "      <td>135.48</td>\n",
       "      <td>21.870</td>\n",
       "    </tr>\n",
       "    <tr>\n",
       "      <th>18</th>\n",
       "      <td>2010-09-30</td>\n",
       "      <td>134.14</td>\n",
       "      <td>21.900</td>\n",
       "    </tr>\n",
       "    <tr>\n",
       "      <th>19</th>\n",
       "      <td>2010-10-01</td>\n",
       "      <td>135.64</td>\n",
       "      <td>21.910</td>\n",
       "    </tr>\n",
       "  </tbody>\n",
       "</table>\n",
       "</div>"
      ],
      "text/plain": [
       "         Date     IBM    CSCO\n",
       "0  2010-09-03  127.58  21.040\n",
       "1  2010-09-07  125.95  20.580\n",
       "2  2010-09-08  126.08  20.640\n",
       "3  2010-09-09  126.36  20.610\n",
       "4  2010-09-10  127.99  20.620\n",
       "5  2010-09-13  129.61  21.260\n",
       "6  2010-09-14  128.85  21.450\n",
       "7  2010-09-15  129.43  21.590\n",
       "8  2010-09-16  129.67  21.930\n",
       "9  2010-09-17  130.19  21.863\n",
       "10 2010-09-20  131.79  21.750\n",
       "11 2010-09-21  131.98  21.640\n",
       "12 2010-09-22  132.57  21.670\n",
       "13 2010-09-23  131.67  21.530\n",
       "14 2010-09-24  134.11  22.090\n",
       "15 2010-09-27  134.65  22.110\n",
       "16 2010-09-28  134.89  21.863\n",
       "17 2010-09-29  135.48  21.870\n",
       "18 2010-09-30  134.14  21.900\n",
       "19 2010-10-01  135.64  21.910"
      ]
     },
     "execution_count": 17,
     "metadata": {},
     "output_type": "execute_result"
    }
   ],
   "source": [
    "zan[['Date','IBM','CSCO']]"
   ]
  },
  {
   "cell_type": "code",
   "execution_count": 21,
   "metadata": {},
   "outputs": [
    {
     "data": {
      "text/plain": [
       "<Axes: xlabel='IBM', ylabel='Date'>"
      ]
     },
     "execution_count": 21,
     "metadata": {},
     "output_type": "execute_result"
    },
    {
     "data": {
      "image/png": "[encoded data removed]",
      "text/plain": [
       "<Figure size 640x480 with 1 Axes>"
      ]
     },
     "metadata": {},
     "output_type": "display_data"
    }
   ],
   "source": [
    "sns.barplot( x='IBM' , y='Date' ,data=zan )"
   ]
  },
  {
   "cell_type": "markdown",
   "metadata": {},
   "source": []
  }
 ],
 "metadata": {
  "kernelspec": {
   "display_name": "Python 3",
   "language": "python",
   "name": "python3"
  },
  "language_info": {
   "codemirror_mode": {
    "name": "ipython",
    "version": 3
   },
   "file_extension": ".py",
   "mimetype": "text/x-python",
   "name": "python",
   "nbconvert_exporter": "python",
   "pygments_lexer": "ipython3",
   "version": "3.11.4"
  }
 },
 "nbformat": 4,
 "nbformat_minor": 2
}
